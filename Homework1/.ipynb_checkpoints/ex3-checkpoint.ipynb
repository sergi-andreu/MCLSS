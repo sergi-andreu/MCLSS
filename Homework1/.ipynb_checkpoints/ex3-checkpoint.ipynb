{
 "cells": [
  {
   "cell_type": "code",
   "execution_count": 11,
   "id": "678a4f52-6b9c-4bf5-b311-5878f297a7f6",
   "metadata": {},
   "outputs": [
    {
     "name": "stdout",
     "output_type": "stream",
     "text": [
      "m=5: \n",
      "Time:\n",
      "  0.541201 seconds (263 allocations: 470.475 MiB, 33.24% gc time)\n",
      "Should be zero 1: 4.697668835189824e-14\n",
      "Should be zero 2: 6.135976495208459e-15\n",
      "\n",
      "\n",
      "m=10: \n",
      "Time:\n",
      "  1.356931 seconds (718 allocations: 1.468 GiB, 33.57% gc time)\n",
      "Should be zero 1: 9.912009392306365e-14\n",
      "Should be zero 2: 7.934885534406894e-14\n",
      "\n",
      "\n",
      "m=20: \n",
      "Time:\n",
      "  4.054631 seconds (2.23 k allocations: 5.166 GiB, 30.77% gc time)\n",
      "Should be zero 1: 1.6585736663410313e-13\n",
      "Should be zero 2: 9.920274739733032e-14\n",
      "\n",
      "\n",
      "m=50: \n",
      "Time:\n",
      " 20.177151 seconds (11.56 k allocations: 29.707 GiB, 27.15% gc time)\n",
      "Should be zero 1: 3.9830534395971087e-13\n",
      "Should be zero 2: 3.433792838220209e-12\n",
      "\n",
      "\n",
      "m=100: \n",
      "Time:\n",
      " 82.463211 seconds (43.11 k allocations: 115.433 GiB, 22.92% gc time)\n",
      "Should be zero 1: 7.823010999570731e-13\n",
      "Should be zero 2: 1.108135565124277e-11\n",
      "\n",
      "\n"
     ]
    }
   ],
   "source": [
    "using LinearAlgebra, Random, MatrixDepot  \n",
    "# LinearAlgebra for: eig, norm, etc, \n",
    "# Random for getting random numbers, \n",
    "# MatrixDepot for generating \"wathen\" matrices\n",
    "\n",
    "include(\"arnoldi.jl\")\n",
    "\n",
    "nn=1000;\n",
    "Random.seed!(0)\n",
    "\n",
    "\n",
    "function my_hw1_gs(Q,w,k)\n",
    "    CGS(Q, w, k);\n",
    "    #MGS(Q, w, k);\n",
    "    #DGS(Q, w, k);\n",
    "    #TGS(Q, w, k);\n",
    "end\n",
    "\n",
    "ms = [5, 10, 20, 50, 100];\n",
    "\n",
    "for (index, m) in enumerate(ms)\n",
    "    \n",
    "    A=matrixdepot(\"wathen\",nn,nn)\n",
    "    b = randn(size(A)[1], 1)\n",
    "\n",
    "    Q,H=arnoldi(A,b,m);\n",
    "    should_be_zero1=norm(Q*H-A*Q[:,1:m])\n",
    "    should_be_zero2=norm(Q'*Q-I)\n",
    "\n",
    "    println(\"m=\",m, \": \")\n",
    "    println(\"Time:\")\n",
    "    @time Q,H=arnoldi(A,b,m)\n",
    "    \n",
    "    println(\"Should be zero 1: \", should_be_zero1)\n",
    "    println(\"Should be zero 2: \", should_be_zero2)\n",
    "    println(\"\\n\")\n",
    "end"
   ]
  }
 ],
 "metadata": {
  "kernelspec": {
   "display_name": "Julia 1.5.2",
   "language": "julia",
   "name": "julia-1.5"
  },
  "language_info": {
   "file_extension": ".jl",
   "mimetype": "application/julia",
   "name": "julia",
   "version": "1.5.2"
  }
 },
 "nbformat": 4,
 "nbformat_minor": 5
}
